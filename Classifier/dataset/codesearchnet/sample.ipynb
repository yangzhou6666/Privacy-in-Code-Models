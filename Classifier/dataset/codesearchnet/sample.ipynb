{
 "cells": [
  {
   "cell_type": "code",
   "execution_count": 1,
   "metadata": {},
   "outputs": [],
   "source": [
    "import pickle\n",
    "import random\n",
    "import json\n",
    "from tqdm import tqdm\n"
   ]
  },
  {
   "cell_type": "code",
   "execution_count": 18,
   "metadata": {},
   "outputs": [
    {
     "name": "stdout",
     "output_type": "stream",
     "text": [
      "324.6304016268429\n",
      "6.990679545839688\n"
     ]
    }
   ],
   "source": [
    "input_token_length = 0\n",
    "gt_token_length = 0\n",
    "num = 0\n",
    "with open('/workspace/Privacy-in-Code-Models/CodeCompletion-line/dataset/javaCorpus/CodeGPT-small-java/20/test_victim.json', 'r') as f:\n",
    "    for line in f:\n",
    "        data = json.loads(line)\n",
    "        input_token_length += data['input_token_length']\n",
    "        gt_token_length += data['gt_token_length']\n",
    "        num += 1\n",
    "print(input_token_length / num)\n",
    "print(gt_token_length / num)\n",
    "\n"
   ]
  },
  {
   "cell_type": "code",
   "execution_count": 25,
   "metadata": {},
   "outputs": [],
   "source": [
    "function_input = []\n",
    "with open('java_dedupe_definitions_v2.pkl','rb') as f:\n",
    "    data = pickle.load(f)\n",
    "for d in data:\n",
    "    if len(d['function_tokens']) > 150:\n",
    "        function_input.append(' '.join(d['function_tokens']))"
   ]
  },
  {
   "cell_type": "code",
   "execution_count": 26,
   "metadata": {},
   "outputs": [
    {
     "data": {
      "text/plain": [
       "283018"
      ]
     },
     "execution_count": 26,
     "metadata": {},
     "output_type": "execute_result"
    }
   ],
   "source": [
    "len(function_input)"
   ]
  },
  {
   "cell_type": "code",
   "execution_count": 27,
   "metadata": {},
   "outputs": [],
   "source": [
    "sample = random.sample(function_input, 10000)"
   ]
  },
  {
   "cell_type": "code",
   "execution_count": 29,
   "metadata": {},
   "outputs": [
    {
     "data": {
      "text/plain": [
       "'@ Override protected void internalInitPanel ( GridPane grid , int idx ) { idx ++ ; grid . add ( new Label ( \"Values\" ) , 0 , idx ) ; ObservableList < String > list = FXCollections . observableArrayList ( getMenuItem ( ) . getEnumEntries ( ) ) ; listView = new ListView <> ( list ) ; listView . setEditable ( true ) ; listView . setCellFactory ( TextFieldListCell . forListView ( ) ) ; listView . setOnEditCommit ( t -> { listView . getItems ( ) . set ( t . getIndex ( ) , t . getNewValue ( ) ) ; } ) ; listView . setMinHeight ( 100 ) ; grid . add ( listView , 1 , idx , 1 , 3 ) ; idx += 3 ; Button addButton = new Button ( \"Add\" ) ; addButton . setId ( \"addEnumEntry\" ) ; Button removeButton = new Button ( \"Remove\" ) ; removeButton . setId ( \"removeEnumEntry\" ) ; removeButton . setDisable ( true ) ; HBox hbox = new HBox ( addButton , removeButton ) ; grid . add ( hbox , 1 , idx ) ; addButton . setOnAction ( event -> { listView . getItems ( ) . add ( \"ChangeMe\" ) ; listView . getSelectionModel ( ) . selectLast ( ) ; } ) ; removeButton . setOnAction ( event -> { String selectedItem = listView . getSelectionModel ( ) . getSelectedItem ( ) ; if ( selectedItem != null ) { list . remove ( selectedItem ) ; } } ) ; list . addListener ( ( ListChangeListener < ? super String > ) observable -> callChangeConsumer ( ) ) ; listView . setId ( \"enumList\" ) ; listView . getSelectionModel ( ) . selectedItemProperty ( ) . addListener ( ( observable , oldValue , newValue ) -> removeButton . setDisable ( newValue == null ) ) ; listView . getSelectionModel ( ) . selectFirst ( ) ; }'"
      ]
     },
     "execution_count": 29,
     "metadata": {},
     "output_type": "execute_result"
    }
   ],
   "source": [
    "sample[0]"
   ]
  },
  {
   "cell_type": "code",
   "execution_count": 28,
   "metadata": {},
   "outputs": [
    {
     "name": "stdout",
     "output_type": "stream",
     "text": [
      "351.1294\n",
      "151\n"
     ]
    }
   ],
   "source": [
    "length = 0\n",
    "min_length = 100000\n",
    "for s in sample:\n",
    "    length += len(s.split())\n",
    "    if len(s.split()) < min_length:\n",
    "        min_length = len(s.split())\n",
    "print(length / 10000)\n",
    "print(min_length)"
   ]
  },
  {
   "cell_type": "code",
   "execution_count": 37,
   "metadata": {},
   "outputs": [
    {
     "name": "stderr",
     "output_type": "stream",
     "text": [
      "100%|██████████| 10000/10000 [00:00<00:00, 29744.52it/s]\n"
     ]
    }
   ],
   "source": [
    "res = []\n",
    "for s in tqdm(sample,total=len(sample)):\n",
    "    s = s.split()\n",
    "    input_token = []\n",
    "    while True:\n",
    "        i = random.randint(100,len(s)-20)\n",
    "        input_token = s[:i]\n",
    "        gt = []\n",
    "        for j in range(i,len(s)):\n",
    "            if s[j] == '{':\n",
    "                break\n",
    "            elif s[j] == '}':\n",
    "                gt.append(s[j])\n",
    "                break\n",
    "            elif s[j] == ';':\n",
    "                gt.append(s[j])\n",
    "                break\n",
    "            else:\n",
    "                gt.append(s[j])\n",
    "        if len(gt) > 5:\n",
    "            break\n",
    "    res.append({'input':'<s> '+' '.join(input_token), 'gt':' '.join(gt)})\n",
    "\n",
    "function_input = []\n",
    "with open('java_dedupe_definitions_v2.pkl','rb') as f:\n",
    "    data = pickle.load(f)\n",
    "for d in data:\n",
    "    if len(d['function_tokens']) > 150:\n",
    "        function_input.append(' '.join(d['function_tokens']))\n",
    "    "
   ]
  },
  {
   "cell_type": "code",
   "execution_count": 39,
   "metadata": {},
   "outputs": [
    {
     "name": "stdout",
     "output_type": "stream",
     "text": [
      "213.7945\n",
      "14.1194\n"
     ]
    }
   ],
   "source": [
    "input_token_length = 0\n",
    "gt_token_length = 0\n",
    "num = 0\n",
    "for r in res:\n",
    "    input_token_length += len(r['input'].split())\n",
    "    gt_token_length += len(r['gt'].split())\n",
    "    num += 1\n",
    "print(input_token_length / num)\n",
    "print(gt_token_length / num)"
   ]
  },
  {
   "cell_type": "code",
   "execution_count": 40,
   "metadata": {},
   "outputs": [],
   "source": [
    "with open('train_victim_sample_java.json','w') as f:\n",
    "    for r in res:\n",
    "        f.write(json.dumps(r)+'\\n')"
   ]
  },
  {
   "cell_type": "markdown",
   "metadata": {},
   "source": [
    "# python"
   ]
  },
  {
   "cell_type": "code",
   "execution_count": 13,
   "metadata": {},
   "outputs": [],
   "source": [
    "function_input = []\n",
    "with open('python_dedupe_definitions_v2.pkl','rb') as f:\n",
    "    data = pickle.load(f)\n",
    "for d in data:\n",
    "    if len(d['function_tokens']) > 200:\n",
    "        function_input.append(' '.join(d['function_tokens']))"
   ]
  },
  {
   "cell_type": "code",
   "execution_count": 14,
   "metadata": {},
   "outputs": [
    {
     "name": "stdout",
     "output_type": "stream",
     "text": [
      "454.4977\n",
      "201\n"
     ]
    }
   ],
   "source": [
    "length = 0\n",
    "min_length = 100000\n",
    "sample = random.sample(function_input, 10000)\n",
    "for s in sample:\n",
    "    length += len(s.split())\n",
    "    if len(s.split()) < min_length:\n",
    "        min_length = len(s.split())\n",
    "print(length / 10000)\n",
    "print(min_length)"
   ]
  },
  {
   "cell_type": "code",
   "execution_count": 15,
   "metadata": {},
   "outputs": [
    {
     "name": "stderr",
     "output_type": "stream",
     "text": [
      "100%|██████████| 10000/10000 [00:00<00:00, 32130.17it/s]\n"
     ]
    }
   ],
   "source": [
    "res = []\n",
    "for s in tqdm(sample,total=len(sample)):\n",
    "    s = s.split()\n",
    "    input_token = []\n",
    "    while True:\n",
    "        i = random.randint(130,len(s)-20)\n",
    "        input_token = s[:i]\n",
    "        j = random.randint(5,20)\n",
    "        gt = s[i:i+j]\n",
    "        if len(gt) > 5:\n",
    "            break\n",
    "    res.append({'input':'<s> '+' '.join(input_token), 'gt':' '.join(gt)})\n",
    "\n",
    "\n",
    "    "
   ]
  },
  {
   "cell_type": "code",
   "execution_count": 16,
   "metadata": {},
   "outputs": [
    {
     "name": "stdout",
     "output_type": "stream",
     "text": [
      "281.2241\n",
      "12.9882\n"
     ]
    }
   ],
   "source": [
    "input_token_length = 0\n",
    "gt_token_length = 0\n",
    "num = 0\n",
    "for r in res:\n",
    "    input_token_length += len(r['input'].split())\n",
    "    gt_token_length += len(r['gt'].split())\n",
    "    num += 1\n",
    "print(input_token_length / num)\n",
    "print(gt_token_length / num)"
   ]
  },
  {
   "cell_type": "code",
   "execution_count": 17,
   "metadata": {},
   "outputs": [],
   "source": [
    "with open('test_victim_sample_python.json','w') as f:\n",
    "    for r in res:\n",
    "        f.write(json.dumps(r)+'\\n')"
   ]
  }
 ],
 "metadata": {
  "kernelspec": {
   "display_name": "Python 3.7.4 ('base')",
   "language": "python",
   "name": "python3"
  },
  "language_info": {
   "codemirror_mode": {
    "name": "ipython",
    "version": 3
   },
   "file_extension": ".py",
   "mimetype": "text/x-python",
   "name": "python",
   "nbconvert_exporter": "python",
   "pygments_lexer": "ipython3",
   "version": "3.7.4"
  },
  "orig_nbformat": 4,
  "vscode": {
   "interpreter": {
    "hash": "d4d1e4263499bec80672ea0156c357c1ee493ec2b1c70f0acce89fc37c4a6abe"
   }
  }
 },
 "nbformat": 4,
 "nbformat_minor": 2
}
