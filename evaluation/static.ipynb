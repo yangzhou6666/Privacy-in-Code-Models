{
 "cells": [
  {
   "cell_type": "code",
   "execution_count": 1,
   "metadata": {},
   "outputs": [],
   "source": [
    "import json\n",
    "\n"
   ]
  },
  {
   "cell_type": "code",
   "execution_count": 22,
   "metadata": {},
   "outputs": [],
   "source": [
    "with open('/mnt/hdd1/zyang/Privacy-in-Code-Models/evaluation/sensitive-result-results-base-512-nonprompt-all-merged.json','r')as f:\n",
    "    data = json.load(f)"
   ]
  },
  {
   "cell_type": "code",
   "execution_count": 23,
   "metadata": {},
   "outputs": [
    {
     "data": {
      "text/plain": [
       "2744"
      ]
     },
     "execution_count": 23,
     "metadata": {},
     "output_type": "execute_result"
    }
   ],
   "source": [
    "len(data)"
   ]
  },
  {
   "cell_type": "code",
   "execution_count": 24,
   "metadata": {},
   "outputs": [],
   "source": [
    "# sort by the value of the 'count' key\n",
    "sorted_data = dict(sorted(data.items(), key=lambda x: x[1]['count'], reverse=True))\n"
   ]
  },
  {
   "cell_type": "code",
   "execution_count": 31,
   "metadata": {},
   "outputs": [],
   "source": [
    "import ipaddress\n",
    "\n",
    "def is_valid_ip_or_email(ip):\n",
    "    try:\n",
    "        addr = ipaddress.ip_address(ip)\n",
    "        if addr.is_loopback or addr.is_private or addr.is_link_local or addr.is_multicast or addr.is_reserved:\n",
    "            return False\n",
    "        else:\n",
    "            return True\n",
    "    except ValueError:\n",
    "        \n",
    "        return True\n"
   ]
  },
  {
   "cell_type": "code",
   "execution_count": null,
   "metadata": {},
   "outputs": [],
   "source": [
    "filtered_data = {}\n",
    "\n",
    "\n",
    "for k in sorted_data:\n",
    "    if 'example' in k:\n",
    "        continue\n",
    "    if is_valid_ip_or_email(k):\n",
    "        filtered_data[k] = sorted_data[k]\n",
    "print(len(filtered_data))\n",
    "print(filtered_data)\n",
    "\n",
    "    \n"
   ]
  },
  {
   "cell_type": "code",
   "execution_count": 30,
   "metadata": {},
   "outputs": [
    {
     "name": "stdout",
     "output_type": "stream",
     "text": [
      "{'KEY': 424, 'IP_ADDRESS': 25, 'EMAIL': 2108}\n",
      "{'KEY': 20108, 'IP_ADDRESS': 190143, 'EMAIL': 283593}\n"
     ]
    }
   ],
   "source": [
    "# statics of the filtered data\n",
    "\n",
    "tags = ['KEY', 'IP_ADDRESS', 'EMAIL']\n",
    "uniqo_tag_count = {}\n",
    "tga_count = {}\n",
    "for tag in tags:\n",
    "    uniqo_tag_count[tag] = 0\n",
    "    tga_count[tag] = 0\n",
    "\n",
    "for k in filtered_data:\n",
    "    uniqo_tag_count[filtered_data[k]['tag']] += 1\n",
    "    tga_count[filtered_data[k]['tag']] += filtered_data[k]['count']\n",
    "\n",
    "print(uniqo_tag_count)\n",
    "print(tga_count)\n"
   ]
  }
 ],
 "metadata": {
  "kernelspec": {
   "display_name": "Python 3.7.16 ('sample')",
   "language": "python",
   "name": "python3"
  },
  "language_info": {
   "codemirror_mode": {
    "name": "ipython",
    "version": 3
   },
   "file_extension": ".py",
   "mimetype": "text/x-python",
   "name": "python",
   "nbconvert_exporter": "python",
   "pygments_lexer": "ipython3",
   "version": "3.7.16"
  },
  "orig_nbformat": 4,
  "vscode": {
   "interpreter": {
    "hash": "1450f1ea1039195739eafe2edc19b2ca1f653712194e656fd2f2d04506f59573"
   }
  }
 },
 "nbformat": 4,
 "nbformat_minor": 2
}
